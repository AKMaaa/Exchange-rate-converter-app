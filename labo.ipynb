{
 "cells": [
  {
   "cell_type": "code",
   "execution_count": 1,
   "metadata": {},
   "outputs": [
    {
     "name": "stdout",
     "output_type": "stream",
     "text": [
      "0.007703746901880739\n"
     ]
    }
   ],
   "source": [
    "from currency_converter import CurrencyConverter\n",
    "\n",
    "c = CurrencyConverter()\n",
    "\n",
    "print(c.convert(1, 'JPY', 'USD'))"
   ]
  }
 ],
 "metadata": {
  "interpreter": {
   "hash": "d2d8acd4dde7d0ab164dd811c6e2da45617c9431e0f404ac579c7d6f7b5201bb"
  },
  "kernelspec": {
   "display_name": "Python 3.9.7 ('base')",
   "language": "python",
   "name": "python3"
  },
  "language_info": {
   "codemirror_mode": {
    "name": "ipython",
    "version": 3
   },
   "file_extension": ".py",
   "mimetype": "text/x-python",
   "name": "python",
   "nbconvert_exporter": "python",
   "pygments_lexer": "ipython3",
   "version": "3.9.7"
  },
  "orig_nbformat": 4
 },
 "nbformat": 4,
 "nbformat_minor": 2
}
